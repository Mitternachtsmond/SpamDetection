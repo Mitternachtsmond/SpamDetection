{
 "cells": [
  {
   "cell_type": "markdown",
   "metadata": {},
   "source": [
    "# Spam Mail Detection\n"
   ]
  },
  {
   "cell_type": "markdown",
   "metadata": {},
   "source": [
    "### Data Collection\n"
   ]
  },
  {
   "cell_type": "code",
   "execution_count": 10,
   "metadata": {},
   "outputs": [],
   "source": [
    "# Mukul Jain\n",
    "# Kaggle Full Dataset\n",
    "\n",
    "import os\n",
    "import numpy as np\n",
    "\n",
    "dirs = []\n",
    "for i in range(6):\n",
    "    dirs.append(\"enron\" + str(i + 1))\n",
    "    \n",
    "ham_mails = []\n",
    "spam_mails = []\n",
    "for f in dirs:\n",
    "    for i in os.listdir(os.path.join(f, \"ham\")):\n",
    "        ham_mails.append(os.path.join(f, \"ham\", i))\n",
    "for f in dirs:\n",
    "    for i in os.listdir(os.path.join(f, \"spam\")):\n",
    "        spam_mails.append(os.path.join(f, \"spam\", i))\n",
    "\n",
    "ham_mails = np.array(ham_mails)\n",
    "spam_mails = np.array(spam_mails)\n",
    "all_mails = np.concatenate((ham_mails, spam_mails))\n",
    "\n",
    "ham_labels = np.zeros((len(ham_mails),), dtype=int)\n",
    "spam_labels = np.ones((len(spam_mails),), dtype=int)\n",
    "all_labels = np.concatenate((ham_labels, spam_labels))\n"
   ]
  },
  {
   "cell_type": "markdown",
   "metadata": {},
   "source": [
    "### Splitting Data\n"
   ]
  },
  {
   "cell_type": "code",
   "execution_count": 11,
   "metadata": {},
   "outputs": [],
   "source": [
    "from sklearn.model_selection import train_test_split\n",
    "\n",
    "train_mails, test_mails, train_labels, test_labels = train_test_split(\n",
    "    all_mails, all_labels, test_size=0.2, random_state=42\n",
    ")\n"
   ]
  },
  {
   "cell_type": "markdown",
   "metadata": {},
   "source": [
    "### Data Preparation\n"
   ]
  },
  {
   "cell_type": "code",
   "execution_count": 12,
   "metadata": {},
   "outputs": [],
   "source": [
    "all_words = []\n",
    "\n",
    "for mail in train_mails:\n",
    "    with open(mail) as m:\n",
    "        try:\n",
    "            for i, line in enumerate(m):\n",
    "                words = line.split()\n",
    "                all_words += words\n",
    "        except:\n",
    "            pass\n",
    "\n",
    "\n",
    "from collections import Counter\n",
    "\n",
    "word_counter = Counter(all_words)\n"
   ]
  },
  {
   "cell_type": "markdown",
   "metadata": {},
   "source": [
    "### Data Cleaning\n"
   ]
  },
  {
   "cell_type": "code",
   "execution_count": 13,
   "metadata": {},
   "outputs": [],
   "source": [
    "list_to_remove = list(word_counter.keys())\n",
    "for item in list_to_remove:\n",
    "    if item.isalpha() == False:\n",
    "        del word_counter[item]\n",
    "    elif len(item) == 1:\n",
    "        del word_counter[item]\n",
    "word_counter = word_counter.most_common(20000)\n",
    "word_index = {}\n",
    "for i, (word, frequency) in enumerate(word_counter):\n",
    "    word_index[word] = i\n"
   ]
  },
  {
   "cell_type": "markdown",
   "metadata": {},
   "source": [
    "### Feature Extraction\n"
   ]
  },
  {
   "cell_type": "code",
   "execution_count": 14,
   "metadata": {},
   "outputs": [],
   "source": [
    "def extract_features(train_mails, word_index):\n",
    "    docId = 0\n",
    "    matrix = np.zeros((len(train_mails), len(word_counter)), dtype=int)\n",
    "    for file in train_mails:\n",
    "        with open(file) as m:\n",
    "            try:\n",
    "                for i, line in enumerate(m):\n",
    "                    words = line.split()\n",
    "                    for word in words:\n",
    "                        if word not in word_index.keys():\n",
    "                            continue\n",
    "                        wordId = word_index[word]\n",
    "                        matrix[docId, wordId] = words.count(word)\n",
    "            except:\n",
    "                pass\n",
    "            docId += 1\n",
    "\n",
    "    return matrix\n",
    "\n",
    "\n",
    "train_word_matrix = extract_features(train_mails, word_index)\n"
   ]
  },
  {
   "cell_type": "markdown",
   "metadata": {},
   "source": [
    "### Training\n"
   ]
  },
  {
   "cell_type": "code",
   "execution_count": 15,
   "metadata": {},
   "outputs": [
    {
     "data": {
      "text/plain": [
       "MultinomialNB()"
      ]
     },
     "execution_count": 15,
     "metadata": {},
     "output_type": "execute_result"
    }
   ],
   "source": [
    "from sklearn.naive_bayes import MultinomialNB\n",
    "from sklearn.metrics import confusion_matrix\n",
    "\n",
    "model = MultinomialNB()\n",
    "model.fit(train_word_matrix, train_labels)\n"
   ]
  },
  {
   "cell_type": "markdown",
   "metadata": {},
   "source": [
    "### Testing\n"
   ]
  },
  {
   "cell_type": "code",
   "execution_count": 16,
   "metadata": {},
   "outputs": [
    {
     "name": "stdout",
     "output_type": "stream",
     "text": [
      "0.9682633842503336\n",
      "[[3253  105]\n",
      " [ 109 3276]]\n"
     ]
    }
   ],
   "source": [
    "test_word_matrix = extract_features(test_mails, word_index)\n",
    "result = model.predict(test_word_matrix)\n",
    "print(model.score(test_word_matrix, test_labels))\n",
    "\n",
    "print(confusion_matrix(test_labels, result))\n"
   ]
  }
 ],
 "metadata": {
  "interpreter": {
   "hash": "916dbcbb3f70747c44a77c7bcd40155683ae19c65e1c03b4aa3499c5328201f1"
  },
  "kernelspec": {
   "display_name": "Python 3.8.10 64-bit",
   "name": "python3"
  },
  "language_info": {
   "codemirror_mode": {
    "name": "ipython",
    "version": 3
   },
   "file_extension": ".py",
   "mimetype": "text/x-python",
   "name": "python",
   "nbconvert_exporter": "python",
   "pygments_lexer": "ipython3",
   "version": "3.8.10"
  },
  "orig_nbformat": 4
 },
 "nbformat": 4,
 "nbformat_minor": 2
}
