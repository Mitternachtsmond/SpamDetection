{
  "cells": [
    {
      "cell_type": "code",
      "execution_count": null,
      "metadata": {},
      "outputs": [],
      "source": [
        "from google.colab import drive\n",
        "drive.mount('/content/drive')"
      ]
    },
    {
      "cell_type": "code",
      "execution_count": null,
      "metadata": {},
      "outputs": [],
      "source": [
        "!unzip drive/My\\ Drive/archive.zip > /dev/null #-d drive/My\\ Drive/enron"
      ]
    },
    {
      "cell_type": "code",
      "execution_count": 8,
      "metadata": {
        "execution": {
          "iopub.execute_input": "2021-10-27T06:47:40.055412Z",
          "iopub.status.busy": "2021-10-27T06:47:40.055054Z",
          "iopub.status.idle": "2021-10-27T06:47:40.701995Z",
          "shell.execute_reply": "2021-10-27T06:47:40.701026Z",
          "shell.execute_reply.started": "2021-10-27T06:47:40.055374Z"
        },
        "id": "djJnt1Qvubjg",
        "trusted": true
      },
      "outputs": [],
      "source": [
        "import numpy as np \n",
        "import pandas as pd\n",
        "from sklearn.datasets import load_files\n",
        "from sklearn import metrics\n",
        "import re\n",
        "import nltk\n",
        "nltk.download('stopwords')\n",
        "from nltk.corpus import stopwords\n",
        "from nltk.stem.porter import PorterStemmer\n",
        "from nltk.stem import WordNetLemmatizer\n",
        "from sklearn.metrics import accuracy_score, precision_score, recall_score\n",
        "from sklearn.metrics import confusion_matrix"
      ]
    },
    {
      "cell_type": "code",
      "execution_count": 6,
      "metadata": {
        "execution": {
          "iopub.execute_input": "2021-10-27T06:47:41.432047Z",
          "iopub.status.busy": "2021-10-27T06:47:41.431751Z",
          "iopub.status.idle": "2021-10-27T06:48:00.915541Z",
          "shell.execute_reply": "2021-10-27T06:48:00.914667Z",
          "shell.execute_reply.started": "2021-10-27T06:47:41.432016Z"
        },
        "id": "24sXKwtTubjh",
        "trusted": true
      },
      "outputs": [],
      "source": [
        "X, y = [], []\n",
        "email = load_files(\"enron1\")\n",
        "X = np.append(X, email.data)\n",
        "y = np.append(y, email.target)   "
      ]
    },
    {
      "cell_type": "code",
      "execution_count": 9,
      "metadata": {
        "execution": {
          "iopub.execute_input": "2021-10-27T06:48:00.917271Z",
          "iopub.status.busy": "2021-10-27T06:48:00.917008Z",
          "iopub.status.idle": "2021-10-27T06:48:01.084680Z",
          "shell.execute_reply": "2021-10-27T06:48:01.083870Z",
          "shell.execute_reply.started": "2021-10-27T06:48:00.917242Z"
        },
        "id": "Wd--pB9dubjh",
        "trusted": true
      },
      "outputs": [],
      "source": [
        "df_all = pd.DataFrame(columns=['text', 'target'])\n",
        "df_all['text'] = [x for x in X]\n",
        "df_all['target'] = [t for t in y]"
      ]
    },
    {
      "cell_type": "code",
      "execution_count": 10,
      "metadata": {
        "execution": {
          "iopub.execute_input": "2021-10-27T06:48:01.086642Z",
          "iopub.status.busy": "2021-10-27T06:48:01.086316Z",
          "iopub.status.idle": "2021-10-27T06:48:01.093010Z",
          "shell.execute_reply": "2021-10-27T06:48:01.091836Z",
          "shell.execute_reply.started": "2021-10-27T06:48:01.086600Z"
        },
        "id": "sZ2CJmIKubjh",
        "trusted": true
      },
      "outputs": [],
      "source": [
        "df_X = df_all.drop(['target'], axis=1)\n",
        "df_y = df_all['target']"
      ]
    },
    {
      "cell_type": "code",
      "execution_count": 11,
      "metadata": {
        "execution": {
          "iopub.execute_input": "2021-10-27T06:48:46.836712Z",
          "iopub.status.busy": "2021-10-27T06:48:46.836398Z",
          "iopub.status.idle": "2021-10-27T06:48:46.840917Z",
          "shell.execute_reply": "2021-10-27T06:48:46.839933Z",
          "shell.execute_reply.started": "2021-10-27T06:48:46.836681Z"
        },
        "id": "bgHBXu-Eubji",
        "trusted": true
      },
      "outputs": [],
      "source": [
        "stemmer = PorterStemmer()\n",
        "lemmatizer = WordNetLemmatizer()"
      ]
    },
    {
      "cell_type": "code",
      "execution_count": 13,
      "metadata": {
        "colab": {
          "base_uri": "https://localhost:8080/"
        },
        "execution": {
          "iopub.execute_input": "2021-10-27T06:48:49.063650Z",
          "iopub.status.busy": "2021-10-27T06:48:49.063356Z",
          "iopub.status.idle": "2021-10-27T06:50:49.201630Z",
          "shell.execute_reply": "2021-10-27T06:50:49.200529Z",
          "shell.execute_reply.started": "2021-10-27T06:48:49.063620Z"
        },
        "id": "lCyTN_d9ubji",
        "outputId": "12cbe900-fbd7-4fab-e63f-f4a5a871d2d1",
        "trusted": true
      },
      "outputs": [
        {
          "name": "stdout",
          "output_type": "stream",
          "text": [
            "[nltk_data] Downloading package stopwords to /root/nltk_data...\n",
            "[nltk_data]   Unzipping corpora/stopwords.zip.\n"
          ]
        }
      ],
      "source": [
        "corpus = []\n",
        "for i in range(0, len(df_X)):\n",
        "    review = re.sub(r'\\\\r\\\\n', ' ', str(df_X['text'][i]))    # Remove special symbols\n",
        "\n",
        "    review = re.sub('[^a-zA-Z]', ' ', review)    # Remove all symbols except letters\n",
        "\n",
        "    review = re.sub(r'\\s+', ' ', review)           # Replacing all gaps with spaces              \n",
        "\n",
        "    review = re.sub(r'^b\\s+', '', review)           # Remove 'b' in the beginning of each text\n",
        "\n",
        "    review = review.lower()\n",
        "    review = review.split()\n",
        "    review = [stemmer.stem(word) for word in review if word not in stopwords.words('english')]\n",
        "    review = ' '.join(review)\n",
        "    corpus.append(review)"
      ]
    },
    {
      "cell_type": "code",
      "execution_count": 14,
      "metadata": {
        "execution": {
          "iopub.execute_input": "2021-10-27T06:50:49.203789Z",
          "iopub.status.busy": "2021-10-27T06:50:49.203538Z",
          "iopub.status.idle": "2021-10-27T06:50:50.379273Z",
          "shell.execute_reply": "2021-10-27T06:50:50.378367Z",
          "shell.execute_reply.started": "2021-10-27T06:50:49.203759Z"
        },
        "id": "cOZ0uXj-ubjj",
        "trusted": true
      },
      "outputs": [],
      "source": [
        "# Creating the Bag of Words model\n",
        "from sklearn.feature_extraction.text import CountVectorizer\n",
        "cv = CountVectorizer()\n",
        "X = cv.fit_transform(corpus).toarray()"
      ]
    },
    {
      "cell_type": "code",
      "execution_count": 15,
      "metadata": {
        "execution": {
          "iopub.execute_input": "2021-10-27T06:50:50.381122Z",
          "iopub.status.busy": "2021-10-27T06:50:50.380812Z",
          "iopub.status.idle": "2021-10-27T06:50:51.229015Z",
          "shell.execute_reply": "2021-10-27T06:50:51.228092Z",
          "shell.execute_reply.started": "2021-10-27T06:50:50.381080Z"
        },
        "id": "8H3MKFpmubjj",
        "trusted": true
      },
      "outputs": [],
      "source": [
        "from sklearn.model_selection import train_test_split\n",
        "X_train, X_test, y_train, y_test = train_test_split(X, y,  random_state=9, test_size=0.2)"
      ]
    },
    {
      "cell_type": "code",
      "execution_count": 16,
      "metadata": {
        "colab": {
          "base_uri": "https://localhost:8080/"
        },
        "execution": {
          "iopub.execute_input": "2021-10-27T06:06:03.590900Z",
          "iopub.status.busy": "2021-10-27T06:06:03.590546Z",
          "iopub.status.idle": "2021-10-27T06:06:04.889022Z",
          "shell.execute_reply": "2021-10-27T06:06:04.888172Z",
          "shell.execute_reply.started": "2021-10-27T06:06:03.590860Z"
        },
        "id": "xGmu9c6Subjk",
        "outputId": "310ee9e2-4776-45eb-fb30-f4f5e5b3b093",
        "trusted": true
      },
      "outputs": [
        {
          "name": "stdout",
          "output_type": "stream",
          "text": [
            "MultinomialNB\n",
            "Accuracy:  97.77777777777777\n",
            "Precision:  96.05263157894737\n",
            "Recall:  96.36963696369637\n",
            "Confusion Matrix: \n",
            "[[720  12]\n",
            " [ 11 292]]\n"
          ]
        }
      ],
      "source": [
        "# MultinomialNB Model\n",
        "\n",
        "from sklearn.naive_bayes import MultinomialNB\n",
        "\n",
        "#train\n",
        "model = MultinomialNB()\n",
        "model.fit(X_train, y_train)\n",
        "\n",
        "#predict\n",
        "y_pred = model.predict(X_test)\n",
        "\n",
        "\n",
        "accuracy = accuracy_score(y_test, y_pred)\n",
        "precision = precision_score(y_test, y_pred)\n",
        "recall = recall_score(y_test, y_pred)\n",
        "conf_m = confusion_matrix(y_test, y_pred)\n",
        "\n",
        "print(\"MultinomialNB\")\n",
        "print(\"Accuracy: \",accuracy*100)\n",
        "print(\"Precision: \", precision*100)\n",
        "print(\"Recall: \",recall*100)\n",
        "print(\"Confusion Matrix: \")\n",
        "print(conf_m)"
      ]
    },
    {
      "cell_type": "code",
      "execution_count": 17,
      "metadata": {
        "colab": {
          "base_uri": "https://localhost:8080/"
        },
        "execution": {
          "iopub.execute_input": "2021-10-27T06:06:10.874297Z",
          "iopub.status.busy": "2021-10-27T06:06:10.873891Z",
          "iopub.status.idle": "2021-10-27T06:11:17.546384Z",
          "shell.execute_reply": "2021-10-27T06:11:17.545421Z",
          "shell.execute_reply.started": "2021-10-27T06:06:10.874253Z"
        },
        "id": "jNTbIPiQubjk",
        "outputId": "99fa818a-75fa-4e6d-e9c5-4d884eabb804",
        "trusted": true
      },
      "outputs": [
        {
          "name": "stdout",
          "output_type": "stream",
          "text": [
            "KNN\n",
            "Accuracy:  85.70048309178743\n",
            "Precision:  68.76513317191282\n",
            "Recall:  93.72937293729373\n",
            "Confusion Matrix: \n",
            "[[603 129]\n",
            " [ 19 284]]\n"
          ]
        }
      ],
      "source": [
        "# KNN Model\n",
        "\n",
        "from sklearn.neighbors import KNeighborsClassifier\n",
        "\n",
        "#train model\n",
        "knn = KNeighborsClassifier(n_neighbors=3)\n",
        "knn.fit(X_train, y_train)\n",
        "\n",
        "#predict\n",
        "y_pred = knn.predict(X_test)\n",
        "\n",
        "#Performance Measures\n",
        "\n",
        "accuracy = accuracy_score(y_test, y_pred)\n",
        "precision = precision_score(y_test, y_pred)\n",
        "recall = recall_score(y_test, y_pred)\n",
        "conf_m = confusion_matrix(y_test, y_pred)\n",
        "\n",
        "print(\"KNN\")\n",
        "print(\"Accuracy: \",accuracy*100)\n",
        "print(\"Precision: \", precision*100)\n",
        "print(\"Recall: \",recall*100)\n",
        "print(\"Confusion Matrix: \")\n",
        "print(conf_m)"
      ]
    },
    {
      "cell_type": "code",
      "execution_count": 18,
      "metadata": {
        "colab": {
          "base_uri": "https://localhost:8080/"
        },
        "execution": {
          "iopub.execute_input": "2021-10-27T06:14:19.818847Z",
          "iopub.status.busy": "2021-10-27T06:14:19.818480Z",
          "iopub.status.idle": "2021-10-27T06:14:29.113777Z",
          "shell.execute_reply": "2021-10-27T06:14:29.112844Z",
          "shell.execute_reply.started": "2021-10-27T06:14:19.818808Z"
        },
        "id": "kg8zIC6Zubjl",
        "outputId": "0165e002-d148-4935-e906-ebe07db02e7f",
        "trusted": true
      },
      "outputs": [
        {
          "name": "stdout",
          "output_type": "stream",
          "text": [
            "Logistic Regression\n",
            "Accuracy:  85.70048309178743\n",
            "Precision:  68.76513317191282\n",
            "Recall:  93.72937293729373\n",
            "Confusion Matrix: \n",
            "[[603 129]\n",
            " [ 19 284]]\n"
          ]
        }
      ],
      "source": [
        "# Logistic Regression Model\n",
        "\n",
        "from sklearn.linear_model import LogisticRegression\n",
        "\n",
        "#train\n",
        "Logression=LogisticRegression()\n",
        "Logression.fit(X_train, y_train)\n",
        "\n",
        "#predict\n",
        "pred = Logression.predict(X_test)\n",
        "\n",
        "#Performance Measures\n",
        "\n",
        "accuracy = accuracy_score(y_test, y_pred)\n",
        "precision = precision_score(y_test, y_pred)\n",
        "recall = recall_score(y_test, y_pred)\n",
        "conf_m = confusion_matrix(y_test, y_pred)\n",
        "\n",
        "print(\"Logistic Regression\")\n",
        "print(\"Accuracy: \",accuracy*100)\n",
        "print(\"Precision: \", precision*100)\n",
        "print(\"Recall: \",recall*100)\n",
        "print(\"Confusion Matrix: \")\n",
        "print(conf_m)\n",
        "\n"
      ]
    },
    {
      "cell_type": "code",
      "execution_count": 19,
      "metadata": {
        "colab": {
          "base_uri": "https://localhost:8080/"
        },
        "execution": {
          "iopub.execute_input": "2021-10-27T06:50:51.231240Z",
          "iopub.status.busy": "2021-10-27T06:50:51.230961Z",
          "iopub.status.idle": "2021-10-27T06:51:16.118292Z",
          "shell.execute_reply": "2021-10-27T06:51:16.117355Z",
          "shell.execute_reply.started": "2021-10-27T06:50:51.231191Z"
        },
        "id": "OBculF_7ubjl",
        "outputId": "540e8ae6-cfbd-48b0-d15b-062cd7e0569c",
        "trusted": true
      },
      "outputs": [
        {
          "name": "stdout",
          "output_type": "stream",
          "text": [
            "RandomForestClassifier\n",
            "Accuracy:  97.97101449275362\n",
            "Precision:  97.63513513513513\n",
            "Recall:  95.37953795379538\n",
            "Confusion Matrix: \n",
            "[[725   7]\n",
            " [ 14 289]]\n"
          ]
        }
      ],
      "source": [
        "# RandomForestClassifier Model\n",
        "\n",
        "from sklearn.ensemble import RandomForestClassifier\n",
        "\n",
        "# train\n",
        "rfc=RandomForestClassifier(n_estimators=100)\n",
        "rfc.fit(X_train,y_train)\n",
        "#predict\n",
        "y_pred=rfc.predict(X_test)\n",
        "\n",
        "#Performance Measures\n",
        "\n",
        "accuracy = accuracy_score(y_test, y_pred)\n",
        "precision = precision_score(y_test, y_pred)\n",
        "recall = recall_score(y_test, y_pred)\n",
        "conf_m = confusion_matrix(y_test, y_pred)\n",
        "\n",
        "print(\"RandomForestClassifier\")\n",
        "print(\"Accuracy: \",accuracy*100)\n",
        "print(\"Precision: \", precision*100)\n",
        "print(\"Recall: \",recall*100)\n",
        "print(\"Confusion Matrix: \")\n",
        "print(conf_m)\n",
        "\n",
        "\n"
      ]
    },
    {
      "cell_type": "code",
      "execution_count": 20,
      "metadata": {
        "colab": {
          "base_uri": "https://localhost:8080/"
        },
        "execution": {
          "iopub.execute_input": "2021-10-27T06:16:51.158322Z",
          "iopub.status.busy": "2021-10-27T06:16:51.157521Z",
          "iopub.status.idle": "2021-10-27T06:20:07.246792Z",
          "shell.execute_reply": "2021-10-27T06:20:07.245757Z",
          "shell.execute_reply.started": "2021-10-27T06:16:51.158274Z"
        },
        "id": "wwblE-yyubjl",
        "outputId": "174de92e-7c35-40ef-e655-ff566604546e",
        "trusted": true
      },
      "outputs": [
        {
          "name": "stdout",
          "output_type": "stream",
          "text": [
            "SVC (C-Support Vector Classification)\n",
            "Accuracy:  97.10144927536231\n",
            "Precision:  95.04950495049505\n",
            "Recall:  95.04950495049505\n",
            "Confusion Matrix: \n",
            "[[717  15]\n",
            " [ 15 288]]\n"
          ]
        }
      ],
      "source": [
        "# SVC (C-Support Vector Classification) Model\n",
        "\n",
        "from sklearn.svm import SVC\n",
        "\n",
        "#train using kernel='linear'\n",
        "clf2 = SVC(kernel='linear')\n",
        "clf2.fit(X_train,y_train)\n",
        "\n",
        "#predict\n",
        "y_pred = clf2.predict(X_test)\n",
        "\n",
        "#Performance Measures\n",
        "\n",
        "accuracy = accuracy_score(y_test, y_pred)\n",
        "precision = precision_score(y_test, y_pred)\n",
        "recall = recall_score(y_test, y_pred)\n",
        "conf_m = confusion_matrix(y_test, y_pred)\n",
        "\n",
        "print(\"SVC (C-Support Vector Classification)\")\n",
        "print(\"Accuracy: \",accuracy*100)\n",
        "print(\"Precision: \", precision*100)\n",
        "print(\"Recall: \",recall*100)\n",
        "print(\"Confusion Matrix: \")\n",
        "print(conf_m)"
      ]
    },
    {
      "cell_type": "code",
      "execution_count": 21,
      "metadata": {
        "colab": {
          "base_uri": "https://localhost:8080/"
        },
        "execution": {
          "iopub.execute_input": "2021-10-27T06:20:07.249158Z",
          "iopub.status.busy": "2021-10-27T06:20:07.248842Z",
          "iopub.status.idle": "2021-10-27T06:20:10.427167Z",
          "shell.execute_reply": "2021-10-27T06:20:10.426236Z",
          "shell.execute_reply.started": "2021-10-27T06:20:07.249114Z"
        },
        "id": "RLHKGbmHubjm",
        "outputId": "4dc5001b-b959-4822-dcb0-59b357589e56",
        "trusted": true
      },
      "outputs": [
        {
          "name": "stdout",
          "output_type": "stream",
          "text": [
            "Gaussian Naive Bayes\n",
            "Accuracy:  93.81642512077295\n",
            "Precision:  92.52669039145907\n",
            "Recall:  85.8085808580858\n",
            "Confusion Matrix: \n",
            "[[711  21]\n",
            " [ 43 260]]\n"
          ]
        }
      ],
      "source": [
        "# Gaussian Naive Bayes Model\n",
        "\n",
        "from sklearn.naive_bayes import GaussianNB\n",
        "\n",
        "#train\n",
        "gnb = GaussianNB()\n",
        "gnb.fit(X_train, y_train)\n",
        "  \n",
        "#predict \n",
        "y_pred = gnb.predict(X_test)\n",
        "  \n",
        "\n",
        "#Performance Measures\n",
        "\n",
        "accuracy = accuracy_score(y_test, y_pred)\n",
        "precision = precision_score(y_test, y_pred)\n",
        "recall = recall_score(y_test, y_pred)\n",
        "conf_m = confusion_matrix(y_test, y_pred)\n",
        "\n",
        "print(\"Gaussian Naive Bayes\")\n",
        "print(\"Accuracy: \",accuracy*100)\n",
        "print(\"Precision: \", precision*100)\n",
        "print(\"Recall: \",recall*100)\n",
        "print(\"Confusion Matrix: \")\n",
        "print(conf_m)"
      ]
    }
  ],
  "metadata": {
    "colab": {
      "collapsed_sections": [],
      "name": "spam-detection-final.ipynb",
      "provenance": []
    },
    "kernelspec": {
      "display_name": "Python 3",
      "language": "python",
      "name": "python3"
    },
    "language_info": {
      "codemirror_mode": {
        "name": "ipython",
        "version": 3
      },
      "file_extension": ".py",
      "mimetype": "text/x-python",
      "name": "python",
      "nbconvert_exporter": "python",
      "pygments_lexer": "ipython3",
      "version": "3.7.10"
    }
  },
  "nbformat": 4,
  "nbformat_minor": 0
}
